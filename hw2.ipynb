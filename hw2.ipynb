{
 "cells": [
  {
   "cell_type": "code",
   "execution_count": 1,
   "metadata": {
    "collapsed": false,
    "scrolled": false
   },
   "outputs": [],
   "source": [
    "from sympy import *\n",
    "init_printing(use_unicode=True)\n",
    "from IPython.display import display"
   ]
  },
  {
   "cell_type": "markdown",
   "metadata": {},
   "source": [
    "# Task 1"
   ]
  },
  {
   "cell_type": "code",
   "execution_count": 2,
   "metadata": {
    "collapsed": false,
    "scrolled": false
   },
   "outputs": [
    {
     "data": {
      "image/png": "[encoded data removed]",
      "text/latex": [
       "$$0$$"
      ],
      "text/plain": [
       "0"
      ]
     },
     "execution_count": 2,
     "metadata": {},
     "output_type": "execute_result"
    }
   ],
   "source": [
    "#v0, v1= Symbol('v_0'), Symbol('v_1')\n",
    "\n",
    "v0 = Matrix([[0.5], [0.5], [0.5], [0.5]])\n",
    "v1 = Matrix([[0.5], [0.5], [-0.5], [-0.5]])\n",
    "\n",
    "v0.dot(v1)"
   ]
  },
  {
   "cell_type": "markdown",
   "metadata": {},
   "source": [
    "#### Answer: 0"
   ]
  },
  {
   "cell_type": "markdown",
   "metadata": {},
   "source": [
    "# Task 2. \n",
    "If $\\{\\mathbf{v}^{(0)},\\ \\mathbf{v}^{(1)},\\ \\mathbf{v}^{(2)},\\ \\mathbf{v}^{(3)}\\}$ is a full **orthonormal** basis, the following system of equations must be satisfied:\n",
    "\n",
    "$$\\begin{cases}\n",
    "\\langle \\mathbf{v}^{(0)}, \\mathbf{v}^{(3)}\\rangle = 0 \\\\ \n",
    "\\langle \\mathbf{v}^{(1)}, \\mathbf{v}^{(3)}\\rangle = 0 \\\\ \n",
    "\\langle \\mathbf{v}^{(2)}, \\mathbf{v}^{(3)}\\rangle = 0 \\\\ \n",
    "\\langle \\mathbf{v}^{(3)}, \\mathbf{v}^{(3)}\\rangle = 1 \n",
    "\\end{cases}$$\n",
    "\n",
    "Let $\\mathbf{v}^{(3)} = \\begin{pmatrix} a & b & c & d \\end{pmatrix}$."
   ]
  },
  {
   "cell_type": "code",
   "execution_count": 3,
   "metadata": {
    "collapsed": false
   },
   "outputs": [
    {
     "data": {
      "image/png": "[encoded data removed]",
      "text/latex": [
       "$$\\left [ \\left ( -0.5, \\quad 0.5, \\quad 0.5, \\quad -0.5\\right ), \\quad \\left ( 0.5, \\quad -0.5, \\quad -0.5, \\quad 0.5\\right )\\right ]$$"
      ],
      "text/plain": [
       "[(-0.5, 0.5, 0.5, -0.5), (0.5, -0.5, -0.5, 0.5)]"
      ]
     },
     "execution_count": 3,
     "metadata": {},
     "output_type": "execute_result"
    }
   ],
   "source": [
    "v2 = Matrix([[0.5], [-0.5], [0.5], [-0.5]])\n",
    "a, b, c, d = symbols('a b c d')\n",
    "v3 = Matrix([[a], [b], [c], [d]])\n",
    "answer = solve([v0.dot(v3), v1.dot(v3), v2.dot(v3), v3.dot(v3)-1], (a, b, c, d))\n",
    "answer"
   ]
  },
  {
   "cell_type": "markdown",
   "metadata": {},
   "source": [
    "#### Answer: 2"
   ]
  },
  {
   "cell_type": "markdown",
   "metadata": {},
   "source": [
    "# Task 3.\n",
    "\n",
    "Let expansion coefficients vector $\\mathbf x = \\begin{pmatrix} a & b & c & d \\end{pmatrix}$."
   ]
  },
  {
   "cell_type": "code",
   "execution_count": 4,
   "metadata": {
    "collapsed": false
   },
   "outputs": [
    {
     "data": {
      "image/png": "[encoded data removed]",
      "text/latex": [
       "$$\\left\\{\\left ( 2.0, \\quad 1.0, \\quad 2.0, \\quad 0\\right )\\right\\}$$"
      ],
      "text/plain": [
       "{(2.0, 1.0, 2.0, 0)}"
      ]
     },
     "execution_count": 4,
     "metadata": {},
     "output_type": "execute_result"
    }
   ],
   "source": [
    "v3 = Matrix(next(iter(answer)))\n",
    "y = Matrix([2.5, 0.5, 1.5, -0.5])\n",
    "x = (a, b, c, d)\n",
    "\n",
    "basis_matrix = v0.row_join(v1).row_join(v2).row_join(v3)\n",
    "linsolve((basis_matrix, y), x)"
   ]
  },
  {
   "cell_type": "markdown",
   "metadata": {},
   "source": [
    "#### Answer: 2.0 1.0 2.0 0.0"
   ]
  },
  {
   "cell_type": "markdown",
   "metadata": {},
   "source": [
    "# Task 4.\n",
    "We just need to solve 4 sytems of linear equations in this task"
   ]
  },
  {
   "cell_type": "code",
   "execution_count": 5,
   "metadata": {
    "collapsed": false
   },
   "outputs": [
    {
     "data": {
      "image/png": "[encoded data removed]",
      "text/latex": [
       "$$\\left \\{ a : 0.0, \\quad b : 0.0, \\quad c : 0.0, \\quad d : 0.0\\right \\}$$"
      ],
      "text/plain": [
       "{a: 0.0, b: 0.0, c: 0.0, d: 0.0}"
      ]
     },
     "execution_count": 5,
     "metadata": {},
     "output_type": "execute_result"
    }
   ],
   "source": [
    "solve([y.dot(x), v1.dot(x), v2.dot(x), v3.dot(x)], (a, b, c, d))"
   ]
  },
  {
   "cell_type": "code",
   "execution_count": 6,
   "metadata": {
    "collapsed": false
   },
   "outputs": [
    {
     "data": {
      "image/png": "[encoded data removed]",
      "text/latex": [
       "$$\\left \\{ a : d, \\quad b : - d, \\quad c : - d\\right \\}$$"
      ],
      "text/plain": [
       "{a: d, b: -d, c: -d}"
      ]
     },
     "execution_count": 6,
     "metadata": {},
     "output_type": "execute_result"
    }
   ],
   "source": [
    "solve([y.dot(x), v0.dot(x), v1.dot(x), v2.dot(x)], (a, b, c, d))"
   ]
  },
  {
   "cell_type": "code",
   "execution_count": 7,
   "metadata": {
    "collapsed": false
   },
   "outputs": [
    {
     "data": {
      "image/png": "[encoded data removed]",
      "text/latex": [
       "$$\\left \\{ a : 0.0, \\quad b : 0.0, \\quad c : 0.0, \\quad d : 0.0\\right \\}$$"
      ],
      "text/plain": [
       "{a: 0.0, b: 0.0, c: 0.0, d: 0.0}"
      ]
     },
     "execution_count": 7,
     "metadata": {},
     "output_type": "execute_result"
    }
   ],
   "source": [
    "solve([y.dot(x), v0.dot(x), v2.dot(x), v3.dot(x)], (a, b, c, d))"
   ]
  },
  {
   "cell_type": "code",
   "execution_count": 8,
   "metadata": {
    "collapsed": false
   },
   "outputs": [
    {
     "data": {
      "image/png": "[encoded data removed]",
      "text/latex": [
       "$$\\left \\{ a : 0.0, \\quad b : 0.0, \\quad c : 0.0, \\quad d : 0.0\\right \\}$$"
      ],
      "text/plain": [
       "{a: 0.0, b: 0.0, c: 0.0, d: 0.0}"
      ]
     },
     "execution_count": 8,
     "metadata": {},
     "output_type": "execute_result"
    }
   ],
   "source": [
    "solve([y.dot(x), v1.dot(x), v2.dot(x), (v3-2*v1).dot(x)], (a, b, c, d))"
   ]
  },
  {
   "cell_type": "markdown",
   "metadata": {},
   "source": [
    "#### Answer: cells 1, 3 and 4 must be selected"
   ]
  },
  {
   "cell_type": "markdown",
   "metadata": {},
   "source": [
    "# Task 5.\n",
    "Solution is very simple.\n",
    "\n",
    "New $\\mathbf{x'}=\\begin{bmatrix} x_0-x_2 \\\\ x_1-x_0 \\\\ x_2-x_1 \\end{bmatrix} = \\begin{bmatrix} 1 \\cdot x_0 + 0 \\cdot x_1 -1 \\cdot x_2 \\\\ -1 \\cdot x_0 + 1 \\cdot x_1 + 0 \\cdot x_2 \\\\ 0 \\cdot x_0 -1 \\cdot x_1 + 1 \\cdot x_2 \\end{bmatrix} $. Now we can determine the matrix $\\mathbf{F}=\\begin{bmatrix} 1 && 0 && -1 \\\\ -1 && 1 && 0 \\\\ 0 && -1 && 1 \\end{bmatrix}$."
   ]
  },
  {
   "cell_type": "markdown",
   "metadata": {},
   "source": [
    "#### Answer: 1 0 -1 -1 1 0 0 -1 1"
   ]
  },
  {
   "cell_type": "markdown",
   "metadata": {},
   "source": [
    "# Task 6.\n",
    "In the task 5 the matrix $\\mathbf{D}$ was defined, that matrix represents delay by 1 (right shift). In this task the matrix $\\mathbf{A}$ is a delay matrix again.\n",
    "\n",
    "Thus $\\mathbf{A}^4=\\begin{bmatrix} 1 && 0 && 0 && 0 \\\\ 0 && 1 && 0 && 0 \\\\ 0 && 0 && 1 && 0 \\\\ 0 && 0 && 0 && 1 \\end{bmatrix}$."
   ]
  },
  {
   "cell_type": "code",
   "execution_count": 9,
   "metadata": {
    "collapsed": false
   },
   "outputs": [
    {
     "data": {
      "image/png": "[encoded data removed]",
      "text/latex": [
       "$$\\left[\\begin{matrix}1 & 0 & 0 & 0\\\\0 & 1 & 0 & 0\\\\0 & 0 & 1 & 0\\\\0 & 0 & 0 & 1\\end{matrix}\\right]$$"
      ],
      "text/plain": [
       "⎡1  0  0  0⎤\n",
       "⎢          ⎥\n",
       "⎢0  1  0  0⎥\n",
       "⎢          ⎥\n",
       "⎢0  0  1  0⎥\n",
       "⎢          ⎥\n",
       "⎣0  0  0  1⎦"
      ]
     },
     "execution_count": 9,
     "metadata": {},
     "output_type": "execute_result"
    }
   ],
   "source": [
    "A = Matrix([[0, 0, 0, 1], [1, 0, 0, 0], [0, 1, 0, 0], [0, 0, 1, 0]])\n",
    "A**4"
   ]
  },
  {
   "cell_type": "markdown",
   "metadata": {},
   "source": [
    "#### Answer: 1 0 0 0 0 1 0 0 0 0 1 0 0 0 0 1"
   ]
  }
 ],
 "metadata": {
  "kernelspec": {
   "display_name": "Python 2",
   "language": "python",
   "name": "python2"
  },
  "language_info": {
   "codemirror_mode": {
    "name": "ipython",
    "version": 2
   },
   "file_extension": ".py",
   "mimetype": "text/x-python",
   "name": "python",
   "nbconvert_exporter": "python",
   "pygments_lexer": "ipython2",
   "version": "2.7.12"
  }
 },
 "nbformat": 4,
 "nbformat_minor": 0
}
