{
 "cells": [
  {
   "cell_type": "markdown",
   "metadata": {},
   "source": [
    "# Task 1\n",
    "Advantages of using digital signals:\n",
    "\n",
    "* Digital signals can be easily stored. <--\n",
    "* Digital signals are more robust to noise. <--\n",
    "* Physical quantities are naturally represented by digital signals.\n",
    "* Digital signals contains more information than analog ones.\n",
    "\n",
    "#### Answer: 1, 2"
   ]
  },
  {
   "cell_type": "markdown",
   "metadata": {},
   "source": [
    "# Task 2\n",
    "Signals in digital format:\n",
    "\n",
    "* An eBook. <--\n",
    "* Image recorded on a photographic film.\n",
    "* The sound produced by a musical instrument.\n",
    "* Music recorded on a CD. <--\n",
    "\n",
    "#### Answer: 1, 4"
   ]
  },
  {
   "cell_type": "markdown",
   "metadata": {},
   "source": [
    "# Task 3"
   ]
  },
  {
   "cell_type": "code",
   "execution_count": 4,
   "metadata": {
    "collapsed": false
   },
   "outputs": [
    {
     "data": {
      "text/plain": [
       "14"
      ]
     },
     "execution_count": 4,
     "metadata": {},
     "output_type": "execute_result"
    }
   ],
   "source": [
    "def x(n):\n",
    "    if n in xrange(1, 4):\n",
    "        return (-1)**n * n\n",
    "    else:\n",
    "        return 0\n",
    "    \n",
    "\n",
    "energy = 0\n",
    "for n in xrange(1, 4):\n",
    "    energy = energy + x(n)**2\n",
    "energy"
   ]
  },
  {
   "cell_type": "markdown",
   "metadata": {},
   "source": [
    "First, energy of the $x[n]$ is $E_x = 14$, according to the (2.19). Energy is finite, thus power $P_x = 0$.\n",
    "\n",
    "For the $y[n]$ energy $E_y = \\infty$, but due to its periodic nature, $P_y = \\frac{1}{N} \\sum_{n=0}^{N-1} |y[n]|^2 $, with $N = 7$ power $P_y = 2$\n",
    "\n",
    "#### Answer: 14 0 oo 2"
   ]
  },
  {
   "cell_type": "markdown",
   "metadata": {},
   "source": [
    "# Task 4\n",
    "\n",
    "* $ y[n]=0.5\\delta[n] + 1.5\\delta[n − 1] + 2.5\\delta[n − 2]+1.5\\delta[n-3] $ <--\n",
    "* The output for $n\\ge 0$  is always zero. \n",
    "* The output for $n\\ge 4$  is always zero. \n",
    "\n",
    "\n",
    "The second one is not correct, because $\\delta[n-1] = 1$ for $n = 1$. Third is correct too.\n",
    "\n",
    "#### Answer: 1 or 3"
   ]
  },
  {
   "cell_type": "markdown",
   "metadata": {},
   "source": [
    "# Task 5\n",
    "Number of samples $N_s = 44100 \\cdot 120 = 5292000$\n",
    "\n",
    "#### Answer: 5292000"
   ]
  },
  {
   "cell_type": "markdown",
   "metadata": {},
   "source": [
    "# Task 6\n",
    "\n",
    "\n",
    "#### Answer: $y[n]=b(ax[n]+x[n-1])-(cx[n-3]+x[n-4])$"
   ]
  },
  {
   "cell_type": "markdown",
   "metadata": {},
   "source": [
    "# Task 7\n",
    "With $M=1,\\ N = 3$ signal $P[n] = e^{j\\frac{m}{n} 2 \\pi n} = e^{j\\frac{2}{3} \\pi n}$.\n",
    "\n",
    "If this functions has a period (yes, it has), the following equation must be satisfied: $$e^{j\\frac{2}{3} \\pi (n + N_1)} = e^{j\\frac{2}{3} \\pi n} \\cdot 1 = e^{j\\frac{2}{3} \\pi n} \\cdot e^{j k 2 \\pi} = e^{j\\frac{2}{3} \\pi n + 2k \\pi}$$\n",
    "\n",
    "Where $k$ is an integer. \n",
    "\n",
    "$$\\frac{2 \\pi}{3} n + \\frac{2 \\pi}{3} N_1 = \\frac{2 \\pi}{3} n + k 2 \\pi \\Rightarrow N_1 = 3 k $$\n",
    "With $k = 1$, period $N_1 = 3$\n",
    "\n",
    "Or, in analytical form: $$N_i = \\frac{N}{M} k$$\n",
    "\n",
    "But this period should me integer, so fundamental period can be written as $$N_i = \\frac{N}{gcd(N,\\ M)}$$\n",
    "\n",
    "Where $gcd$ - is the greatest common divisor.\n",
    "\n",
    "*For this task I used this useful paper - http://fourier.eng.hmc.edu/e101/lectures/Fundamental_Frequency.pdf*\n",
    "\n",
    "#### Answer: 3 7 3"
   ]
  },
  {
   "cell_type": "code",
   "execution_count": null,
   "metadata": {
    "collapsed": true
   },
   "outputs": [],
   "source": []
  }
 ],
 "metadata": {
  "kernelspec": {
   "display_name": "Python 2",
   "language": "python",
   "name": "python2"
  },
  "language_info": {
   "codemirror_mode": {
    "name": "ipython",
    "version": 2
   },
   "file_extension": ".py",
   "mimetype": "text/x-python",
   "name": "python",
   "nbconvert_exporter": "python",
   "pygments_lexer": "ipython2",
   "version": "2.7.12"
  }
 },
 "nbformat": 4,
 "nbformat_minor": 0
}
